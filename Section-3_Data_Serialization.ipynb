{
 "cells": [
  {
   "cell_type": "markdown",
   "metadata": {},
   "source": [
    "# Data Serialization"
   ]
  },
  {
   "cell_type": "markdown",
   "metadata": {},
   "source": [
    "Here we can quickly see how different data types are encoded in JSON and YAML.\n",
    "\n",
    "To do this we are encoding a dictionary of different objects: list, string, integer, boolean and another dictionary into both YAML and JSON."
   ]
  },
  {
   "cell_type": "code",
   "execution_count": null,
   "metadata": {},
   "outputs": [],
   "source": [
    "import json\n",
    "import yaml\n",
    "\n",
    "example_data = {\n",
    "    'a_list': [1,2,3,4,5],                   # = YAML Sequence & JSON array\n",
    "    'a_string': 'Some Text',                 \n",
    "    'a_bool': True, \n",
    "    'a_dict': {'val_1': 11, 'val_2': 22}     # = YAML mapping & JSON object\n",
    "}\n"
   ]
  },
  {
   "cell_type": "markdown",
   "metadata": {},
   "source": [
    "Let's take a look at <b>JSON</b> first:\n",
    "\n",
    "* Dictionaries are enclosed with { } and key value pairs are separated with a colon\n",
    "* Lists are enclosed with [ ]\n",
    "* Strings are enclosed in double quotes\n",
    "* Items are separated with a comma"
   ]
  },
  {
   "cell_type": "code",
   "execution_count": null,
   "metadata": {},
   "outputs": [],
   "source": [
    "print(\"JSON encoding:\\n\")\n",
    "print(json.dumps(example_data))\n",
    "#print(json.dumps(example_data, indent=2))\n"
   ]
  },
  {
   "cell_type": "markdown",
   "metadata": {},
   "source": [
    "Now <b>YAML</b>:\n",
    "* Quotes enclosing strings are not required (but supported if you use them)\n",
    "* Each item is on a new line.\n",
    "* Whitespace indenting is important:\n",
    "* Key, Value pairs in a dictionary are listed under the dictionary name indented with 2 spaces.  Colon separates the key and value\n",
    "* List items are indented under the list name and indicated with '-'\n",
    "* Nested dictionaries and lists are supported with additional indentation.\n"
   ]
  },
  {
   "cell_type": "code",
   "execution_count": null,
   "metadata": {},
   "outputs": [],
   "source": [
    "print(\"YAML encoding:\\n\")\n",
    "print(yaml.dump(example_data, default_flow_style=False))"
   ]
  },
  {
   "cell_type": "markdown",
   "metadata": {},
   "source": [
    "YAML is a superset of JSON so if you wanted you can use { } for dictionaries and [ ] for lists instead of indentation and comma rather than new line separation for items.  You can see this if you remove the 'default_flow_style=False' parameter in the yaml.dump function"
   ]
  },
  {
   "cell_type": "code",
   "execution_count": null,
   "metadata": {},
   "outputs": [],
   "source": [
    "print(yaml.dump(example_data))"
   ]
  },
  {
   "cell_type": "code",
   "execution_count": null,
   "metadata": {},
   "outputs": [],
   "source": []
  }
 ],
 "metadata": {
  "kernelspec": {
   "display_name": "Python 3",
   "language": "python",
   "name": "python3"
  },
  "language_info": {
   "codemirror_mode": {
    "name": "ipython",
    "version": 3
   },
   "file_extension": ".py",
   "mimetype": "text/x-python",
   "name": "python",
   "nbconvert_exporter": "python",
   "pygments_lexer": "ipython3",
   "version": "3.6.7"
  }
 },
 "nbformat": 4,
 "nbformat_minor": 2
}
