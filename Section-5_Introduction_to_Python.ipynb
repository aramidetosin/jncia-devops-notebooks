{
 "cells": [
  {
   "cell_type": "markdown",
   "metadata": {},
   "source": [
    "# Introduction to Python Concepts"
   ]
  },
  {
   "cell_type": "markdown",
   "metadata": {},
   "source": [
    "<b>Variables</b>\n",
    "\n",
    "Variables are used within a program to store temporary values.  Different types of variable are used to store different types of data.\n",
    "\n",
    "Python is a dynamic typed language, this means the variable type is assigned based on context rather than explicitly."
   ]
  },
  {
   "cell_type": "code",
   "execution_count": null,
   "metadata": {},
   "outputs": [],
   "source": [
    "a = 12    # integer\n",
    "# a = '12'  # string  \n",
    "#a = True  # boolean\n",
    "#a = raw_input(\"'a' gets set to whatever you type: \")\n",
    "\n",
    "print(\"'a' equals {}\".format(a))\n",
    "print(\"'a' is a {}\".format(type(a)))"
   ]
  },
  {
   "cell_type": "markdown",
   "metadata": {},
   "source": [
    "Variables link to a memory location.  When one variable is assigned the value of another, the second variable is linked to the memory location of the first.  Therefore, when the first variables' value changes so does the second."
   ]
  },
  {
   "cell_type": "code",
   "execution_count": null,
   "metadata": {},
   "outputs": [],
   "source": [
    "a = 'first'\n",
    "b = a\n",
    "print(\"'b' equals {}\".format(b))"
   ]
  },
  {
   "cell_type": "markdown",
   "metadata": {},
   "source": [
    "<b>Operators</b>\n",
    "\n",
    "Operators can be used to manipulate variables.  Here you can see how you can use operators mathmatically on integers."
   ]
  },
  {
   "cell_type": "code",
   "execution_count": null,
   "metadata": {},
   "outputs": [],
   "source": [
    "a = 2\n",
    "b = 3\n",
    "c = a + b # addition\n",
    "d = a * b # multiplication\n",
    "e = a - b # subtraction\n",
    "f = a / b # devision\n",
    "g = a ** b # raise to the power of\n",
    "h = a % b # modulo (remainder)\n",
    "\n",
    "print(\"'d' equals {}\".format(d))\n"
   ]
  },
  {
   "cell_type": "markdown",
   "metadata": {},
   "source": [
    "Operators can also be used to maniplate other data types (polymorphism)."
   ]
  },
  {
   "cell_type": "code",
   "execution_count": null,
   "metadata": {},
   "outputs": [],
   "source": [
    "i = 'blah'\n",
    "j = 12\n",
    "k = i * j\n",
    "\n",
    "print(\"'k' equals {}\".format(k))"
   ]
  },
  {
   "cell_type": "markdown",
   "metadata": {},
   "source": [
    "<b>Flow Control</b>\n",
    "\n",
    "You will need to test conditions in your programs and based on the results of the tests, execute different branches of code.  One of the ways to do this in python is to use an 'if' statement.  \n",
    "\n",
    "The code underneath the if / elif / else statements is indented by 4 spaces.  This is a key feature of python: indentation indicates code blocks i.e. in this case everything indented underneath 'if' is a child of that statement so only gets executed if that statement is True.\n",
    "\n",
    "Indentation in python performs the same function as {} do in several other languages.  It has the benefit of enforcing code readability.\n",
    "\n",
    "You will see indentation used whereever code blocks are needed, for example: functions, loops, classes and error capture.\n"
   ]
  },
  {
   "cell_type": "code",
   "execution_count": null,
   "metadata": {},
   "outputs": [],
   "source": [
    "a = 30\n",
    "b = 20\n",
    "\n",
    "print(\"is 'a' greater than 'b'?\")\n",
    "if a > b:\n",
    "    print(\"yes\")\n",
    "elif a == b:\n",
    "    print(\"no, they are equal\")\n",
    "else:\n",
    "    print(\"no\")"
   ]
  },
  {
   "cell_type": "markdown",
   "metadata": {},
   "source": [
    "<b>Additional Data Types</b>\n",
    "\n",
    "Python also has several other data types that are useful for storing more complex information.  Including but not limited to: lists, dictionaries, tuples and sets.\n",
    "\n",
    "A <b>List</b> is a collection of values.  A one dimensional array in other languages.  Values can be accessed via their index. The values can be mixed type. "
   ]
  },
  {
   "cell_type": "code",
   "execution_count": null,
   "metadata": {},
   "outputs": [],
   "source": [
    "eg_list = ['apple', 'orange', 'peach', 'cherry']\n",
    "\n",
    "print(eg_list)\n",
    "print(type(eg_list))\n",
    "print(eg_list[1])\n"
   ]
  },
  {
   "cell_type": "markdown",
   "metadata": {},
   "source": [
    "<b>Lists</b> are mutable, that is they can be modified, values can be added or removed."
   ]
  },
  {
   "cell_type": "code",
   "execution_count": null,
   "metadata": {},
   "outputs": [],
   "source": [
    "eg_list.append('tomato')\n",
    "# eg_list.remove('apple')\n",
    "print(eg_list)\n",
    "print(\"The list is: {} items long\".format(len(eg_list)))"
   ]
  },
  {
   "cell_type": "markdown",
   "metadata": {},
   "source": [
    "<b>Tuples</b> are immutable lists.  Once they are set, values cannot be added or removed."
   ]
  },
  {
   "cell_type": "code",
   "execution_count": null,
   "metadata": {},
   "outputs": [],
   "source": [
    "eg_tuple = ('apple', 'orange', 'peach', 'cherry')\n",
    "\n",
    "print(eg_tuple)\n",
    "print(type(eg_tuple))"
   ]
  },
  {
   "cell_type": "markdown",
   "metadata": {},
   "source": [
    "<b>Dictionaries</b>, are also known as associative arrays in other languages.  They are an unordered collection of key value pairs."
   ]
  },
  {
   "cell_type": "code",
   "execution_count": null,
   "metadata": {},
   "outputs": [],
   "source": [
    "eg_dict = {'fruit_a':'apple', 'fruit_b':'orange', 'fruit_c':'peach', 'fruit_d':'cherry' }\n",
    "\n",
    "print(eg_dict)\n",
    "print(type(eg_dict))\n",
    "print(eg_dict['fruit_c'])\n"
   ]
  },
  {
   "cell_type": "code",
   "execution_count": null,
   "metadata": {},
   "outputs": [],
   "source": [
    "eg_dict['fruit_e'] = 'tomato'\n",
    "\n",
    "print(eg_dict)\n",
    "print(eg_dict.keys())\n",
    "print(eg_dict.values())"
   ]
  },
  {
   "cell_type": "markdown",
   "metadata": {},
   "source": [
    "<b>Functions and Scope</b>\n",
    "\n",
    "Functions are used to give a program structure and are useful when code blocks need to be reused.\n",
    "\n",
    "When a variable is manipulated within a code block, it only affects the variable when accessed within that block.  The variable outside that block is not affected."
   ]
  },
  {
   "cell_type": "code",
   "execution_count": null,
   "metadata": {},
   "outputs": [],
   "source": [
    "foo = 'outside'\n",
    "print(\"before we run the function foo equals *{}*\\n\".format(foo))\n",
    "\n",
    "def eg_function():\n",
    "    foo = 'inside'\n",
    "    print(\"inside the function foo equals: *{}*\\n\".format(foo))\n",
    "\n",
    "eg_function()\n",
    "\n",
    "print(\"but outside the function foo still equals: *{}*, even after the function has been executed\".format(foo))"
   ]
  },
  {
   "cell_type": "markdown",
   "metadata": {},
   "source": [
    "<b>Loops</b>\n",
    "\n",
    "Loops are very useful when we need to perform the same task on a group of objects.  They allow us to iterate repeately over a data set."
   ]
  },
  {
   "cell_type": "code",
   "execution_count": null,
   "metadata": {},
   "outputs": [],
   "source": [
    "lots_of_numbers = range(0,50,5)\n",
    "print(list(lots_of_numbers))\n"
   ]
  },
  {
   "cell_type": "code",
   "execution_count": null,
   "metadata": {},
   "outputs": [],
   "source": [
    "count = 0\n",
    "for item in lots_of_numbers:\n",
    "    print(\"5 times {} is {}\".format(count, item))\n",
    "    count += 1"
   ]
  },
  {
   "cell_type": "markdown",
   "metadata": {},
   "source": [
    "<b>Libraries</b>\n",
    "\n",
    "Python has access to many modules of code inside external libraries.  Often if you are looking at performing a common task, there is no need to re-invent the wheel, code for that task could well exist already.\n",
    "\n",
    "Python ships with many standard libraries, all you need to do is import them into your program to use them.  If the feature you need is not available in a standard library then it might be satisfied in an external library.  These can be installed locally using 'pip' and then imported as normal.\n",
    "\n",
    "Modules can either be imported in their intirety (using import ...) or specific members of those modules can be imported (using: from ... import ...).\n",
    "\n",
    "Once imported, the former needs: module.func() to call the desired code, the latter we can just use: func()"
   ]
  },
  {
   "cell_type": "code",
   "execution_count": null,
   "metadata": {},
   "outputs": [],
   "source": [
    "import time\n",
    "from ipaddress import ip_interface\n",
    "\n",
    "print(time.strftime(\"%Y-%m-%d %H:%M:%S\", time.gmtime()))\n",
    "print(\"\\n\")\n",
    "\n",
    "test_ip = ip_interface(u'192.168.0.1/28')\n",
    "print(test_ip.netmask)\n"
   ]
  },
  {
   "cell_type": "markdown",
   "metadata": {},
   "source": [
    "<b>Object Oriented Python</b>\n",
    "\n",
    "Python is a multi-paradigm language supporting elements of: object orientated, procedural and functional programming.\n",
    "\n",
    "There is not enough time to explore any of these elements in detail in this short course but it is required to understand a little of python's object orientation to understand how to use the Juniper PyEZ library.\n",
    "\n",
    "Almost everything in Python is an object.\n",
    "\n",
    "Objects have properties and variables that you can access and also have methods (in built functions that process the data contained within the object). For example:"
   ]
  },
  {
   "cell_type": "code",
   "execution_count": null,
   "metadata": {},
   "outputs": [],
   "source": [
    "a = \"i am a string\"\n",
    "print(a.upper())         # calling the upper() method\n",
    "print(a.split())         # calling the split () method"
   ]
  },
  {
   "cell_type": "markdown",
   "metadata": {},
   "source": [
    "Classes are blueprints for objects.  They define how data is stored within an object and how the methods associated with an object operate.  When you define a string in the example above the str() class contains the blueprints for how a string object should be created.\n",
    "\n",
    "When you instantiate (initialize) a class it becomes an object.  You can then use the methods associated with it.\n",
    "\n",
    "To see all the methods and attributes associated with an object, use the dir() function:"
   ]
  },
  {
   "cell_type": "code",
   "execution_count": null,
   "metadata": {},
   "outputs": [],
   "source": [
    "print(dir(a))"
   ]
  },
  {
   "cell_type": "markdown",
   "metadata": {},
   "source": [
    "You can define custom classes to handle data specific to your projects.\n",
    "\n",
    "The PyEZ libraries contain classes to interact with Juniper devices.\n",
    "\n",
    "In the example on the next notebook we use the Device class"
   ]
  },
  {
   "cell_type": "code",
   "execution_count": null,
   "metadata": {},
   "outputs": [],
   "source": []
  }
 ],
 "metadata": {
  "kernelspec": {
   "display_name": "Python 3",
   "language": "python",
   "name": "python3"
  },
  "language_info": {
   "codemirror_mode": {
    "name": "ipython",
    "version": 3
   },
   "file_extension": ".py",
   "mimetype": "text/x-python",
   "name": "python",
   "nbconvert_exporter": "python",
   "pygments_lexer": "ipython3",
   "version": "3.6.7"
  }
 },
 "nbformat": 4,
 "nbformat_minor": 2
}
