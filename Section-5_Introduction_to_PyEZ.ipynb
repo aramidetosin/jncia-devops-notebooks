{
 "cells": [
  {
   "cell_type": "markdown",
   "metadata": {},
   "source": [
    "# Introduction to PyEZ"
   ]
  },
  {
   "cell_type": "markdown",
   "metadata": {},
   "source": [
    "PyEZ is a collection of open source python modules, authored by Juniper that facilitate the automation of devices running JunOS.\n",
    "\n"
   ]
  },
  {
   "cell_type": "code",
   "execution_count": null,
   "metadata": {},
   "outputs": [],
   "source": [
    "import jnpr.junos.exception \n",
    "from jnpr.junos import Device\n",
    "from lxml import etree\n",
    "from pprint import pprint\n"
   ]
  },
  {
   "cell_type": "markdown",
   "metadata": {},
   "source": [
    "You authenticate with a standard username and password configured on the destination device(s).\n",
    "\n",
    "```\n",
    "netconf@JNCIA-DevOps-Test-SRX> show configuration system login user netconf \n",
    "uid 2007;\n",
    "class super-user;\n",
    "authentication {\n",
    "    encrypted-password \"$1$65GprHhA$QBnUF8WHyKb8v3V7VTBzO0\"; ## SECRET-DATA\n",
    "}\n",
    "```\n"
   ]
  },
  {
   "cell_type": "markdown",
   "metadata": {},
   "source": [
    "We start with the <i>Device</i> class we've imported from jnpr.junos.  This controls connecting and interfacing with JunOS devices.\n",
    "\n",
    "We instantiate the class with the host we want to connect to and some authentication parameters.  Then we run the <i>open()</i> method from the instantiated object.  At this point a connection is established out to the JunOS device.\n",
    "\n"
   ]
  },
  {
   "cell_type": "code",
   "execution_count": null,
   "metadata": {},
   "outputs": [],
   "source": [
    "UID = 'netconf'\n",
    "PWD = 'netconf123'\n",
    "ROUTER = '192.168.1.1'\n",
    "\n",
    "dev = Device(host=ROUTER, password=PWD, user=UID, normalize=True) # connect via NETCONF by default\n",
    "                                                                  # normalize trims whitespace from xml replies \n",
    "\n",
    "#dev = Device(host=ROUTER, password=PWD, user=UID, mode='telnet') # You can also connect via telnet\n",
    "#dev = Device(host=ROUTER, password=PWD, user=UID, mode='serial', port='/dev/ttyUSB0') # or console\n",
    "#dev = Device(host=ROUTER, user=UID)   # If you have SSH keys installed, you don't need to specify a password\n",
    "\n",
    "\n",
    "\n",
    "dev.open()\n",
    "print(dev.facts['hostname'])"
   ]
  },
  {
   "cell_type": "markdown",
   "metadata": {},
   "source": [
    "<b>Facts</b> is a nested dictionary that is pulled together and returned by default after the initial connection.  It contains parameters describing the hardware and software state of the remote device.\n",
    "\n",
    "As it's a dictionary, values can be specifically selected using their keys e.g. \n",
    "try: ```print(dev.facts['RE0']['up_time'])```\n",
    "\n",
    "If the information within it is of no use to you, you can exclude it to reduce connect time:\n",
    "\n",
    "```dev = Device(host=ROUTER, user=UID, get_facts=False)```"
   ]
  },
  {
   "cell_type": "code",
   "execution_count": null,
   "metadata": {},
   "outputs": [],
   "source": [
    "pprint(dev.facts)"
   ]
  },
  {
   "cell_type": "markdown",
   "metadata": {},
   "source": [
    "Once the connection is established we can get to the business of querying for the data we need.  To find the relevant RPC to use you can just look at the CLI:\n",
    "\n",
    "```\n",
    "netconf@JNCIA-DevOps-Test-SRX> show security flow session policy-id 1| display xml rpc    \n",
    "<rpc-reply xmlns:junos=\"http://xml.juniper.net/junos/12.3X48/junos\">\n",
    "    <rpc>\n",
    "        <get-flow-session-information>\n",
    "                <policy-id>1</policy-id>\n",
    "        </get-flow-session-information>\n",
    "         </rpc>\n",
    "        <cli>\n",
    "            <banner></banner>\n",
    "        </cli>\n",
    "    </rpc-reply>\n",
    "\n",
    "```\n",
    "\n",
    "We need to convert the '-' to '_ '.  Python interprets '-' as the minus operator so tries to evaluate as an expression."
   ]
  },
  {
   "cell_type": "code",
   "execution_count": null,
   "metadata": {},
   "outputs": [],
   "source": [
    "security_flows = dev.rpc.get_flow_session_information(policy_id='1')\n"
   ]
  },
  {
   "cell_type": "markdown",
   "metadata": {},
   "source": [
    "Now we have the XML data we can iterate over it and use it as we see fit.\n",
    "We could use a full XPATH expression as outlined in Section 2 i.e.: ```xml_doc.xpath('xpath_expression')```\n",
    "\n",
    "Alternatively you can use the simpler <i>.find()</i> or <i>.findall()</i> methods.  These return either the first match or all matches for basic search patterns. For example:"
   ]
  },
  {
   "cell_type": "code",
   "execution_count": null,
   "metadata": {},
   "outputs": [],
   "source": [
    "print(\"{:15} {:15} {:15} {:15}\".format('Src IP', 'Src Port', 'Dest IP', 'Dest Port'))\n",
    "\n",
    "for elem in security_flows.findall('flow-session'):\n",
    "    print(\"{:15} {:15} {:15} {:15}\".format(\n",
    "        elem.find('.//source-address').text,\n",
    "        elem.find('.//source-port').text,\n",
    "        elem.find('.//destination-address').text,\n",
    "        elem.find('.//destination-port').text\n",
    "        ))"
   ]
  },
  {
   "cell_type": "markdown",
   "metadata": {},
   "source": [
    "Once you have all the data you need, you should close the session with the remote device"
   ]
  },
  {
   "cell_type": "code",
   "execution_count": null,
   "metadata": {},
   "outputs": [],
   "source": [
    "dev.close()"
   ]
  },
  {
   "cell_type": "markdown",
   "metadata": {},
   "source": [
    "An alternative to having to use <i>dev.open()</i> and <i>dev.close()</i> methods each time is to take advantage of the python 'with' construct which implicitly uses <i>.open()</i> immediately after object instantiation and uses <i>.close()</i> once execution in the stanza is complete."
   ]
  },
  {
   "cell_type": "code",
   "execution_count": null,
   "metadata": {},
   "outputs": [],
   "source": [
    "with Device(host=ROUTER, password=PWD, user=UID, normalize=True) as dev:\n",
    "    print(dev.facts['hostname'])\n",
    "\n"
   ]
  },
  {
   "cell_type": "code",
   "execution_count": null,
   "metadata": {},
   "outputs": [],
   "source": []
  }
 ],
 "metadata": {
  "kernelspec": {
   "display_name": "Python 3",
   "language": "python",
   "name": "python3"
  },
  "language_info": {
   "codemirror_mode": {
    "name": "ipython",
    "version": 3
   },
   "file_extension": ".py",
   "mimetype": "text/x-python",
   "name": "python",
   "nbconvert_exporter": "python",
   "pygments_lexer": "ipython3",
   "version": "3.6.7"
  }
 },
 "nbformat": 4,
 "nbformat_minor": 2
}
