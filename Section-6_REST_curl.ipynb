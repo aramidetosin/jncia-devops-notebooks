{
 "cells": [
  {
   "cell_type": "markdown",
   "metadata": {},
   "source": [
    "# Juniper REST API Examples"
   ]
  },
  {
   "cell_type": "markdown",
   "metadata": {},
   "source": [
    "<b>Router Configuration</b>\n",
    "\n",
    "To use REST, first you have to configure the service, my router configuration is listed below:\n",
    "\n",
    "```system { \n",
    "    services {\n",
    "        rest {\n",
    "            http {\n",
    "                port 3000;\n",
    "                addresses 172.12.1.2;\n",
    "            }\n",
    "            https {\n",
    "                port 3443;\n",
    "                server-certificate REST-CERT;\n",
    "            }\n",
    "            control {\n",
    "                allowed-sources 172.12.1.1;\n",
    "            }\n",
    "            enable-explorer;\n",
    "        }\n",
    "    }\n",
    "}```"
   ]
  },
  {
   "cell_type": "markdown",
   "metadata": {},
   "source": [
    "<b> Generate self signed certificate</b><br>\n",
    "If you are using HTTPS you also need to install the certificate.  As this is a lab environment I'm self generating one on the router:\n",
    "\n",
    "```\n",
    "request security pki generate-key-pair certificate-id REST-CERT\n",
    "\n",
    "request security pki local-certificate generate-self-signed certificate-id REST-CERT subject CN=abc domain-name jncia-devops.test ip-address 172.12.1.2 email test@jncia-devops.test\n",
    "```"
   ]
  },
  {
   "cell_type": "markdown",
   "metadata": {},
   "source": [
    "The quickest way to demontrate interacting with the REST API is using CLI driven curl."
   ]
  },
  {
   "cell_type": "markdown",
   "metadata": {},
   "source": [
    "RPCs can be executed in much the same way as with NETCONF, here we obtain the full configuration.<br>\n",
    "The requests need to be authenticated with a valid router username & password.\n",
    "As we are using a self signed certificate on the router ```'-k'``` is needed to ignore the certificate errors."
   ]
  },
  {
   "cell_type": "code",
   "execution_count": null,
   "metadata": {},
   "outputs": [],
   "source": [
    "ROUTER = '172.12.1.2'\n",
    "!curl -k -u netconf:netconf123 https://$ROUTER:3443/rpc/get-configuration\n"
   ]
  },
  {
   "cell_type": "markdown",
   "metadata": {},
   "source": [
    "XML Attributes are specified after the '@' symbol.<br>\n",
    "RPC parameters are specified after the '?' symbol.<br>\n",
    "Multiple RPC parameters are separated with the '&' symbol.<br>"
   ]
  },
  {
   "cell_type": "code",
   "execution_count": null,
   "metadata": {},
   "outputs": [],
   "source": [
    "!curl -k -u netconf:netconf123 \\\n",
    "    \"https://$ROUTER:3443/rpc/get-interface-information@format=text?interface-name=fxp0&terse=\""
   ]
  },
  {
   "cell_type": "markdown",
   "metadata": {},
   "source": [
    "Multiple RPCs can be submitted in the same query using a POST of XML data describing the RPCs:"
   ]
  },
  {
   "cell_type": "code",
   "execution_count": null,
   "metadata": {},
   "outputs": [],
   "source": [
    "!curl -k -u netconf:netconf123 \\\n",
    "    \"https://$ROUTER:3443/rpc\" -d \\\n",
    "    \"<get-system-alarm-information format='text'></get-system-alarm-information>\\\n",
    "     <get-system-uptime-information format='text'></get-system-uptime-information>\""
   ]
  },
  {
   "cell_type": "markdown",
   "metadata": {},
   "source": [
    "Data to retrieve can be filtered, also using a POST:"
   ]
  },
  {
   "cell_type": "code",
   "execution_count": null,
   "metadata": {},
   "outputs": [],
   "source": [
    "\n",
    "!curl -k -u netconf:netconf123 \\\n",
    "    \"https://$ROUTER:3443/rpc\" -d \\\n",
    "    \"<get-config><source><running/></source><filter type='subtree'><configuration>\\\n",
    "     <chassis></chassis></configuration></filter></get-config>\""
   ]
  },
  {
   "cell_type": "code",
   "execution_count": null,
   "metadata": {},
   "outputs": [],
   "source": []
  }
 ],
 "metadata": {
  "kernelspec": {
   "display_name": "Python 3",
   "language": "python",
   "name": "python3"
  },
  "language_info": {
   "codemirror_mode": {
    "name": "ipython",
    "version": 3
   },
   "file_extension": ".py",
   "mimetype": "text/x-python",
   "name": "python",
   "nbconvert_exporter": "python",
   "pygments_lexer": "ipython3",
   "version": "3.6.7"
  }
 },
 "nbformat": 4,
 "nbformat_minor": 2
}
