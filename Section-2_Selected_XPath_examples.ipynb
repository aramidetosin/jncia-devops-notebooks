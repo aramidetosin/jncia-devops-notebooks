{
 "cells": [
  {
   "cell_type": "markdown",
   "metadata": {},
   "source": [
    "# Examples of XPath Expressions"
   ]
  },
  {
   "cell_type": "markdown",
   "metadata": {},
   "source": [
    "This document demontrates using XPath expressions to filter XML data.\n",
    "\n",
    "The cell below loads an example XML document (output from a <i>get-interface-information(descriptions=True)</i> RPC call), converts it to an lxml object so we can interrogate it and defines a small function that will print out text values for the nodes / elements we find with our xpath expressions.\n",
    "\n",
    "We then have some examples of the different type of expressions."
   ]
  },
  {
   "cell_type": "code",
   "execution_count": null,
   "metadata": {},
   "outputs": [],
   "source": [
    "from lxml import etree\n",
    "import pprint\n",
    "\n",
    "with open('./srx.interfaces.xml') as fh:\n",
    "    interfaces_xml = etree.fromstring(fh.read())\n",
    "    \n",
    "def node_values_list(xml_doc, xpath_expr):\n",
    "    return [ x.text for x in xml_doc.xpath(xpath_expr) ]\n",
    "\n",
    "# Example Paths\n",
    "xpath_all_nodes = '//name'    # starting '//' means find the subsequent path anywhere in the document\n",
    "xpath_absolute = '/rpc-reply/interface-information/physical-interface/name'  # starting '/' means anchor at root\n",
    "\n",
    "# Example Predicates:\n",
    "xpath_starts_with = '/rpc-reply/interface-information/logical-interface[starts-with(name, \"lo\")]/name'\n",
    "xpath_match = '/rpc-reply/interface-information/physical-interface[oper-status = \"up\"]/name'\n",
    "xpath_not_match = '/rpc-reply/interface-information/physical-interface[oper-status != \"up\"]/name'\n",
    "xpath_position = '/rpc-reply/interface-information/physical-interface[3]/name'\n",
    "xpath_reverse_position = '/rpc-reply/interface-information/physical-interface[last()-1]/name'"
   ]
  },
  {
   "cell_type": "markdown",
   "metadata": {},
   "source": [
    "We can use xpaths to find nodes:"
   ]
  },
  {
   "cell_type": "code",
   "execution_count": null,
   "metadata": {
    "scrolled": true
   },
   "outputs": [],
   "source": [
    "print(node_values_list(interfaces_xml, xpath_all_nodes))"
   ]
  },
  {
   "cell_type": "code",
   "execution_count": null,
   "metadata": {},
   "outputs": [],
   "source": [
    "print(node_values_list(interfaces_xml, xpath_absolute))"
   ]
  },
  {
   "cell_type": "markdown",
   "metadata": {},
   "source": [
    "<b>Predicates</b>\n",
    "\n",
    "Predicates are used to find nodes that have specific values.  The match conditions in predicates are specified between square brackets. Using predicates we can filter output further. By plugging in different expressions to our function we can see how they affect the data that is returned:"
   ]
  },
  {
   "cell_type": "code",
   "execution_count": null,
   "metadata": {},
   "outputs": [],
   "source": [
    "print(node_values_list(interfaces_xml, xpath_reverse_position))"
   ]
  },
  {
   "cell_type": "code",
   "execution_count": null,
   "metadata": {},
   "outputs": [],
   "source": []
  }
 ],
 "metadata": {
  "kernelspec": {
   "display_name": "Python 3",
   "language": "python",
   "name": "python3"
  },
  "language_info": {
   "codemirror_mode": {
    "name": "ipython",
    "version": 3
   },
   "file_extension": ".py",
   "mimetype": "text/x-python",
   "name": "python",
   "nbconvert_exporter": "python",
   "pygments_lexer": "ipython3",
   "version": "3.6.7"
  }
 },
 "nbformat": 4,
 "nbformat_minor": 2
}
