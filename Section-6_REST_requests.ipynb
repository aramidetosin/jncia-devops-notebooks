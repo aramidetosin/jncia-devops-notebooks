{
 "cells": [
  {
   "cell_type": "markdown",
   "metadata": {},
   "source": [
    "# REST interaction using Python requests Library\n",
    "\n",
    "Typical interaction with the REST API would be via a high level programming language rather than the CLI (e.g. curl).\n",
    "\n",
    "Below is an example using python and the requests HTTP library.\n",
    "\n",
    "* We import the external modules we need.\n",
    "* We define some constants (The devices we are going to poll and how to authenticate)\n",
    "* We iterate over the devices, for each one performing a HTTP POST that grabs a 'show interfaces' in JSON format\n",
    "* We iterate over physical interfaces in the JSON blob, appending to a list each interface that is disabled\n",
    "* Finally we return the contents of this list\n"
   ]
  },
  {
   "cell_type": "code",
   "execution_count": null,
   "metadata": {},
   "outputs": [],
   "source": [
    "\"\"\"Report disabled interfaces on a list of routers\"\"\"\n",
    "import requests\n",
    "\n",
    "DEVICES = ['172.12.1.2']\n",
    "USER = 'netconf'\n",
    "PASS = 'netconf123'\n",
    "\n",
    "for device in DEVICES:\n",
    "    response = requests.post(\"http://{}:3000/rpc/get-interface-information@format=json\".format(device),\n",
    "                             auth=requests.auth.HTTPBasicAuth(USER, PASS),\n",
    "                             headers={'Accept': 'application/json', 'Content-Type': 'application/json'}\n",
    "                             )\n",
    "\n",
    "    admin_down_phy = []\n",
    "    for intf in response.json()['interface-information'][0]['physical-interface']:\n",
    "        if intf['admin-status'][0]['data'] == 'down':\n",
    "            admin_down_phy.append(intf['name'][0]['data'])\n",
    "\n",
    "    \n",
    "    print(\"Disabled physical interfaces:\")\n",
    "    print(\"\\n\".join(admin_down_phy))"
   ]
  },
  {
   "cell_type": "code",
   "execution_count": null,
   "metadata": {},
   "outputs": [],
   "source": []
  }
 ],
 "metadata": {
  "kernelspec": {
   "display_name": "Python 3",
   "language": "python",
   "name": "python3"
  },
  "language_info": {
   "codemirror_mode": {
    "name": "ipython",
    "version": 3
   },
   "file_extension": ".py",
   "mimetype": "text/x-python",
   "name": "python",
   "nbconvert_exporter": "python",
   "pygments_lexer": "ipython3",
   "version": "3.6.7"
  }
 },
 "nbformat": 4,
 "nbformat_minor": 2
}
